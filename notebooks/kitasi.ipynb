{
 "cells": [
  {
   "cell_type": "markdown",
   "metadata": {
    "vscode": {
     "languageId": "plaintext"
    }
   },
   "source": [
    "## <font color=cyan><b>KC HOUSING PREDICTION MODEL.</b></font> \n",
    "## 1. Business understanding\n",
    "\n"
   ]
  },
  {
   "cell_type": "code",
   "execution_count": 1,
   "metadata": {},
   "outputs": [],
   "source": [
    "import pandas as pd\n",
    "import numpy as np\n",
    "import statsmodels.api as sm\n",
    "import matplotlib.pyplot as plt\n",
    "%matplotlib inline\n",
    "import seaborn as sns\n",
    "import statsmodels.api as sm\n",
    "# import plotly.graph_objects as go\n",
    "# import scipy.stats as stats\n",
    "# from sklearn.metrics import mean_absolute_error, mean_squared_error\n",
    "# from pandas.core.internals.blocks import is_string_dtype\n",
    "# from pandas.core.dtypes.api import is_numeric_dtype"
   ]
  },
  {
   "cell_type": "code",
   "execution_count": 2,
   "metadata": {},
   "outputs": [
    {
     "data": {
      "text/html": [
       "<div>\n",
       "<style scoped>\n",
       "    .dataframe tbody tr th:only-of-type {\n",
       "        vertical-align: middle;\n",
       "    }\n",
       "\n",
       "    .dataframe tbody tr th {\n",
       "        vertical-align: top;\n",
       "    }\n",
       "\n",
       "    .dataframe thead th {\n",
       "        text-align: right;\n",
       "    }\n",
       "</style>\n",
       "<table border=\"1\" class=\"dataframe\">\n",
       "  <thead>\n",
       "    <tr style=\"text-align: right;\">\n",
       "      <th></th>\n",
       "      <th>id</th>\n",
       "      <th>date</th>\n",
       "      <th>price</th>\n",
       "      <th>bedrooms</th>\n",
       "      <th>bathrooms</th>\n",
       "      <th>sqft_living</th>\n",
       "      <th>sqft_lot</th>\n",
       "      <th>floors</th>\n",
       "      <th>waterfront</th>\n",
       "      <th>view</th>\n",
       "      <th>...</th>\n",
       "      <th>grade</th>\n",
       "      <th>sqft_above</th>\n",
       "      <th>sqft_basement</th>\n",
       "      <th>yr_built</th>\n",
       "      <th>yr_renovated</th>\n",
       "      <th>zipcode</th>\n",
       "      <th>lat</th>\n",
       "      <th>long</th>\n",
       "      <th>sqft_living15</th>\n",
       "      <th>sqft_lot15</th>\n",
       "    </tr>\n",
       "  </thead>\n",
       "  <tbody>\n",
       "    <tr>\n",
       "      <th>11322</th>\n",
       "      <td>9530101290</td>\n",
       "      <td>11/10/2014</td>\n",
       "      <td>700000.0</td>\n",
       "      <td>3</td>\n",
       "      <td>2.0</td>\n",
       "      <td>1940</td>\n",
       "      <td>4500</td>\n",
       "      <td>1.0</td>\n",
       "      <td>NaN</td>\n",
       "      <td>3.0</td>\n",
       "      <td>...</td>\n",
       "      <td>7</td>\n",
       "      <td>1090</td>\n",
       "      <td>850.0</td>\n",
       "      <td>1926</td>\n",
       "      <td>NaN</td>\n",
       "      <td>98107</td>\n",
       "      <td>47.6659</td>\n",
       "      <td>-122.359</td>\n",
       "      <td>1700</td>\n",
       "      <td>4500</td>\n",
       "    </tr>\n",
       "    <tr>\n",
       "      <th>12355</th>\n",
       "      <td>2591820070</td>\n",
       "      <td>4/28/2015</td>\n",
       "      <td>380000.0</td>\n",
       "      <td>3</td>\n",
       "      <td>2.5</td>\n",
       "      <td>2390</td>\n",
       "      <td>8102</td>\n",
       "      <td>2.0</td>\n",
       "      <td>0.0</td>\n",
       "      <td>0.0</td>\n",
       "      <td>...</td>\n",
       "      <td>8</td>\n",
       "      <td>2390</td>\n",
       "      <td>0.0</td>\n",
       "      <td>1986</td>\n",
       "      <td>0.0</td>\n",
       "      <td>98058</td>\n",
       "      <td>47.4378</td>\n",
       "      <td>-122.160</td>\n",
       "      <td>2310</td>\n",
       "      <td>8606</td>\n",
       "    </tr>\n",
       "    <tr>\n",
       "      <th>13662</th>\n",
       "      <td>4389201075</td>\n",
       "      <td>7/31/2014</td>\n",
       "      <td>1900000.0</td>\n",
       "      <td>4</td>\n",
       "      <td>2.5</td>\n",
       "      <td>3680</td>\n",
       "      <td>13351</td>\n",
       "      <td>2.0</td>\n",
       "      <td>0.0</td>\n",
       "      <td>2.0</td>\n",
       "      <td>...</td>\n",
       "      <td>9</td>\n",
       "      <td>3680</td>\n",
       "      <td>0.0</td>\n",
       "      <td>1946</td>\n",
       "      <td>1982.0</td>\n",
       "      <td>98004</td>\n",
       "      <td>47.6154</td>\n",
       "      <td>-122.214</td>\n",
       "      <td>3410</td>\n",
       "      <td>11700</td>\n",
       "    </tr>\n",
       "    <tr>\n",
       "      <th>4027</th>\n",
       "      <td>2946000590</td>\n",
       "      <td>12/23/2014</td>\n",
       "      <td>276000.0</td>\n",
       "      <td>3</td>\n",
       "      <td>1.5</td>\n",
       "      <td>1820</td>\n",
       "      <td>8750</td>\n",
       "      <td>1.0</td>\n",
       "      <td>NaN</td>\n",
       "      <td>0.0</td>\n",
       "      <td>...</td>\n",
       "      <td>7</td>\n",
       "      <td>1200</td>\n",
       "      <td>620.0</td>\n",
       "      <td>1958</td>\n",
       "      <td>NaN</td>\n",
       "      <td>98198</td>\n",
       "      <td>47.4213</td>\n",
       "      <td>-122.322</td>\n",
       "      <td>1500</td>\n",
       "      <td>8000</td>\n",
       "    </tr>\n",
       "    <tr>\n",
       "      <th>4149</th>\n",
       "      <td>808300090</td>\n",
       "      <td>1/16/2015</td>\n",
       "      <td>435000.0</td>\n",
       "      <td>4</td>\n",
       "      <td>2.5</td>\n",
       "      <td>2650</td>\n",
       "      <td>9065</td>\n",
       "      <td>2.0</td>\n",
       "      <td>0.0</td>\n",
       "      <td>0.0</td>\n",
       "      <td>...</td>\n",
       "      <td>7</td>\n",
       "      <td>2650</td>\n",
       "      <td>0.0</td>\n",
       "      <td>2000</td>\n",
       "      <td>0.0</td>\n",
       "      <td>98019</td>\n",
       "      <td>47.7258</td>\n",
       "      <td>-121.959</td>\n",
       "      <td>2590</td>\n",
       "      <td>13218</td>\n",
       "    </tr>\n",
       "  </tbody>\n",
       "</table>\n",
       "<p>5 rows × 21 columns</p>\n",
       "</div>"
      ],
      "text/plain": [
       "               id        date      price  bedrooms  bathrooms  sqft_living  \\\n",
       "11322  9530101290  11/10/2014   700000.0         3        2.0         1940   \n",
       "12355  2591820070   4/28/2015   380000.0         3        2.5         2390   \n",
       "13662  4389201075   7/31/2014  1900000.0         4        2.5         3680   \n",
       "4027   2946000590  12/23/2014   276000.0         3        1.5         1820   \n",
       "4149    808300090   1/16/2015   435000.0         4        2.5         2650   \n",
       "\n",
       "       sqft_lot  floors  waterfront  view  ...  grade  sqft_above  \\\n",
       "11322      4500     1.0         NaN   3.0  ...      7        1090   \n",
       "12355      8102     2.0         0.0   0.0  ...      8        2390   \n",
       "13662     13351     2.0         0.0   2.0  ...      9        3680   \n",
       "4027       8750     1.0         NaN   0.0  ...      7        1200   \n",
       "4149       9065     2.0         0.0   0.0  ...      7        2650   \n",
       "\n",
       "       sqft_basement yr_built  yr_renovated  zipcode      lat     long  \\\n",
       "11322          850.0     1926           NaN    98107  47.6659 -122.359   \n",
       "12355            0.0     1986           0.0    98058  47.4378 -122.160   \n",
       "13662            0.0     1946        1982.0    98004  47.6154 -122.214   \n",
       "4027           620.0     1958           NaN    98198  47.4213 -122.322   \n",
       "4149             0.0     2000           0.0    98019  47.7258 -121.959   \n",
       "\n",
       "       sqft_living15  sqft_lot15  \n",
       "11322           1700        4500  \n",
       "12355           2310        8606  \n",
       "13662           3410       11700  \n",
       "4027            1500        8000  \n",
       "4149            2590       13218  \n",
       "\n",
       "[5 rows x 21 columns]"
      ]
     },
     "execution_count": 2,
     "metadata": {},
     "output_type": "execute_result"
    }
   ],
   "source": [
    "\n",
    "#Loading dataset\n",
    "df = pd.read_csv(r\"C:\\Users\\AHB\\Desktop\\phase2\\CHECKPOINTS\\dsc-phase-2-project\\data\\kc_house_data.csv\")\n",
    "df.sample(n=5)"
   ]
  },
  {
   "cell_type": "code",
   "execution_count": 3,
   "metadata": {},
   "outputs": [
    {
     "name": "stdout",
     "output_type": "stream",
     "text": [
      "No: of rows is 21597\n",
      "No: of  columns is  21\n"
     ]
    }
   ],
   "source": [
    "\n",
    "#assessing the size of thee dataset to understand complexity.\n",
    "print(\"No: of rows is\", df.shape[0])\n",
    "print('No: of  columns is ', df.shape[1])"
   ]
  },
  {
   "cell_type": "code",
   "execution_count": 4,
   "metadata": {},
   "outputs": [
    {
     "name": "stdout",
     "output_type": "stream",
     "text": [
      "<class 'pandas.core.frame.DataFrame'>\n",
      "RangeIndex: 21597 entries, 0 to 21596\n",
      "Data columns (total 21 columns):\n",
      " #   Column         Non-Null Count  Dtype  \n",
      "---  ------         --------------  -----  \n",
      " 0   id             21597 non-null  int64  \n",
      " 1   date           21597 non-null  object \n",
      " 2   price          21597 non-null  float64\n",
      " 3   bedrooms       21597 non-null  int64  \n",
      " 4   bathrooms      21597 non-null  float64\n",
      " 5   sqft_living    21597 non-null  int64  \n",
      " 6   sqft_lot       21597 non-null  int64  \n",
      " 7   floors         21597 non-null  float64\n",
      " 8   waterfront     19221 non-null  float64\n",
      " 9   view           21534 non-null  float64\n",
      " 10  condition      21597 non-null  int64  \n",
      " 11  grade          21597 non-null  int64  \n",
      " 12  sqft_above     21597 non-null  int64  \n",
      " 13  sqft_basement  21597 non-null  object \n",
      " 14  yr_built       21597 non-null  int64  \n",
      " 15  yr_renovated   17755 non-null  float64\n",
      " 16  zipcode        21597 non-null  int64  \n",
      " 17  lat            21597 non-null  float64\n",
      " 18  long           21597 non-null  float64\n",
      " 19  sqft_living15  21597 non-null  int64  \n",
      " 20  sqft_lot15     21597 non-null  int64  \n",
      "dtypes: float64(8), int64(11), object(2)\n",
      "memory usage: 3.5+ MB\n"
     ]
    }
   ],
   "source": [
    "#viewing the colums and the content type\n",
    "df.info()"
   ]
  },
  {
   "cell_type": "code",
   "execution_count": 5,
   "metadata": {},
   "outputs": [
    {
     "data": {
      "text/plain": [
       "id                  0\n",
       "date                0\n",
       "price               0\n",
       "bedrooms            0\n",
       "bathrooms           0\n",
       "sqft_living         0\n",
       "sqft_lot            0\n",
       "floors              0\n",
       "waterfront       2376\n",
       "view               63\n",
       "condition           0\n",
       "grade               0\n",
       "sqft_above          0\n",
       "sqft_basement       0\n",
       "yr_built            0\n",
       "yr_renovated     3842\n",
       "zipcode             0\n",
       "lat                 0\n",
       "long                0\n",
       "sqft_living15       0\n",
       "sqft_lot15          0\n",
       "dtype: int64"
      ]
     },
     "execution_count": 5,
     "metadata": {},
     "output_type": "execute_result"
    }
   ],
   "source": [
    "\n",
    "#detecting missing values\n",
    "df.isna().sum()\n"
   ]
  },
  {
   "cell_type": "code",
   "execution_count": 6,
   "metadata": {},
   "outputs": [],
   "source": [
    "#dropping columns\n",
    "# df1 = df.dropna(subset=['waterfront', 'yr_renovated'])"
   ]
  },
  {
   "cell_type": "markdown",
   "metadata": {
    "vscode": {
     "languageId": "plaintext"
    }
   },
   "source": [
    "#### 1.1 Introduction\n",
    "The real estate market in a northwestern county exhibits considerable variation in house prices due to multiple factors such as property features, location, and market trends. The complexity and dynamism of the market make it challenging to predict house prices accurately.\n",
    "As part of the data scientist team our task is to create a pricing models essential to stakeholders including real estate agents, buyers, sellers, and investors to make informed decisions. \n",
    "#### 1.2 Problem statement\n",
    "#### 1.3 Objective\n",
    "#importing libraries"
   ]
  }
 ],
 "metadata": {
  "kernelspec": {
   "display_name": "Python (learn-env)",
   "language": "python",
   "name": "learn-env"
  },
  "language_info": {
   "codemirror_mode": {
    "name": "ipython",
    "version": 3
   },
   "file_extension": ".py",
   "mimetype": "text/x-python",
   "name": "python",
   "nbconvert_exporter": "python",
   "pygments_lexer": "ipython3",
   "version": "3.8.5"
  }
 },
 "nbformat": 4,
 "nbformat_minor": 2
}
